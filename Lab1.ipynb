{
  "nbformat": 4,
  "nbformat_minor": 0,
  "metadata": {
    "colab": {
      "name": "Lab1.ipynb",
      "provenance": [],
      "collapsed_sections": [],
      "authorship_tag": "ABX9TyMSdZFaie1Pd22iaTX/oBQY",
      "include_colab_link": true
    },
    "kernelspec": {
      "name": "python3",
      "display_name": "Python 3"
    }
  },
  "cells": [
    {
      "cell_type": "markdown",
      "metadata": {
        "id": "view-in-github",
        "colab_type": "text"
      },
      "source": [
        "<a href=\"https://colab.research.google.com/github/isabernardes/Homework/blob/master/Lab1.ipynb\" target=\"_parent\"><img src=\"https://colab.research.google.com/assets/colab-badge.svg\" alt=\"Open In Colab\"/></a>"
      ]
    },
    {
      "cell_type": "code",
      "metadata": {
        "id": "EGnTmb9UyIjz",
        "colab_type": "code",
        "colab": {
          "base_uri": "https://localhost:8080/",
          "height": 122
        },
        "outputId": "166be9f5-159f-4b21-8a9a-2d202357ec4a"
      },
      "source": [
        "from google.colab import drive\n",
        "drive.mount('/content/drive/')"
      ],
      "execution_count": 8,
      "outputs": [
        {
          "output_type": "stream",
          "text": [
            "Go to this URL in a browser: https://accounts.google.com/o/oauth2/auth?client_id=947318989803-6bn6qk8qdgf4n4g3pfee6491hc0brc4i.apps.googleusercontent.com&redirect_uri=urn%3aietf%3awg%3aoauth%3a2.0%3aoob&response_type=code&scope=email%20https%3a%2f%2fwww.googleapis.com%2fauth%2fdocs.test%20https%3a%2f%2fwww.googleapis.com%2fauth%2fdrive%20https%3a%2f%2fwww.googleapis.com%2fauth%2fdrive.photos.readonly%20https%3a%2f%2fwww.googleapis.com%2fauth%2fpeopleapi.readonly\n",
            "\n",
            "Enter your authorization code:\n",
            "··········\n",
            "Mounted at /content/drive/\n"
          ],
          "name": "stdout"
        }
      ]
    },
    {
      "cell_type": "code",
      "metadata": {
        "id": "ClsS8kzT87m0",
        "colab_type": "code",
        "colab": {
          "base_uri": "https://localhost:8080/",
          "height": 343
        },
        "outputId": "c193f01c-3a61-4b78-ed35-1d81f81390ef"
      },
      "source": [
        "!pip install sentinelsat"
      ],
      "execution_count": 9,
      "outputs": [
        {
          "output_type": "stream",
          "text": [
            "Collecting sentinelsat\n",
            "  Downloading https://files.pythonhosted.org/packages/5c/79/c2ac7b71dd13db95a9b83865bbbc7f1e4359c2b141bedad21b0e181fa06e/sentinelsat-0.13-py2.py3-none-any.whl\n",
            "Collecting geomet\n",
            "  Downloading https://files.pythonhosted.org/packages/c9/81/156ca48f950f833ddc392f8e3677ca50a18cb9d5db38ccb4ecea55a9303f/geomet-0.2.1.post1-py3-none-any.whl\n",
            "Requirement already satisfied: requests in /usr/local/lib/python3.6/dist-packages (from sentinelsat) (2.23.0)\n",
            "Requirement already satisfied: tqdm in /usr/local/lib/python3.6/dist-packages (from sentinelsat) (4.38.0)\n",
            "Collecting html2text\n",
            "  Downloading https://files.pythonhosted.org/packages/ae/88/14655f727f66b3e3199f4467bafcc88283e6c31b562686bf606264e09181/html2text-2020.1.16-py3-none-any.whl\n",
            "Requirement already satisfied: six in /usr/local/lib/python3.6/dist-packages (from sentinelsat) (1.12.0)\n",
            "Collecting geojson>=2\n",
            "  Downloading https://files.pythonhosted.org/packages/e4/8d/9e28e9af95739e6d2d2f8d4bef0b3432da40b7c3588fbad4298c1be09e48/geojson-2.5.0-py2.py3-none-any.whl\n",
            "Requirement already satisfied: click in /usr/local/lib/python3.6/dist-packages (from sentinelsat) (7.1.2)\n",
            "Requirement already satisfied: chardet<4,>=3.0.2 in /usr/local/lib/python3.6/dist-packages (from requests->sentinelsat) (3.0.4)\n",
            "Requirement already satisfied: certifi>=2017.4.17 in /usr/local/lib/python3.6/dist-packages (from requests->sentinelsat) (2020.4.5.1)\n",
            "Requirement already satisfied: urllib3!=1.25.0,!=1.25.1,<1.26,>=1.21.1 in /usr/local/lib/python3.6/dist-packages (from requests->sentinelsat) (1.24.3)\n",
            "Requirement already satisfied: idna<3,>=2.5 in /usr/local/lib/python3.6/dist-packages (from requests->sentinelsat) (2.9)\n",
            "Installing collected packages: geomet, html2text, geojson, sentinelsat\n",
            "Successfully installed geojson-2.5.0 geomet-0.2.1.post1 html2text-2020.1.16 sentinelsat-0.13\n"
          ],
          "name": "stdout"
        }
      ]
    },
    {
      "cell_type": "code",
      "metadata": {
        "id": "56zmJrEq9Dbi",
        "colab_type": "code",
        "colab": {
          "base_uri": "https://localhost:8080/",
          "height": 34
        },
        "outputId": "292b05f7-ff99-46a9-be6b-f0217acf576e"
      },
      "source": [
        "import os\n",
        "import numpy as np\n",
        "from sentinelsat import SentinelAPI, read_geojson, geojson_to_wkt\n",
        "from datetime import date\n",
        "from pprint import pprint\n",
        "from urllib.request import urlopen\n",
        "import json\n",
        "from shapely.geometry import Polygon\n",
        "import shapely\n",
        "import geojson as gj\n",
        "\n",
        "from osgeo import ogr, osr, gdal\n",
        "print(gdal.__version__)\n",
        "\n",
        "import matplotlib.pyplot as plt\n",
        "%matplotlib inline\n"
      ],
      "execution_count": 10,
      "outputs": [
        {
          "output_type": "stream",
          "text": [
            "2.2.3\n"
          ],
          "name": "stdout"
        }
      ]
    },
    {
      "cell_type": "code",
      "metadata": {
        "id": "UWs4KZGW9Hdv",
        "colab_type": "code",
        "colab": {
          "base_uri": "https://localhost:8080/",
          "height": 119
        },
        "outputId": "7cc3337e-d1e2-49a2-8ca6-7310572b4b04"
      },
      "source": [
        "api = SentinelAPI('isabernardes', 'Bananamor90', 'https://scihub.copernicus.eu/dhus')\n",
        "longitude = 13.3901966\n",
        "latitude = 52.5228906\n",
        "\n",
        "products = api.query(f'POINT({longitude} {latitude})',\n",
        "                     date = (date(2019, 6, 1), date(2020, 2, 29)),\n",
        "                     platformname = 'Sentinel-2',\n",
        "                     cloudcoverpercentage = (0, 30))\n",
        "\n",
        "# convert to Pandas DataFrame\n",
        "products_df = api.to_dataframe(products)\n",
        "\n",
        "# sort and limit to first 5 sorted products\n",
        "products_df_sorted = products_df.sort_values(['cloudcoverpercentage', 'ingestiondate'], ascending=[True, True])\n",
        "products_df_sorted = products_df_sorted.head(1)\n",
        "\n",
        "print(products_df_sorted)"
      ],
      "execution_count": 11,
      "outputs": [
        {
          "output_type": "stream",
          "text": [
            "Querying products: 100%|██████████| 119/119 [00:00<00:00, 298.05 products/s]"
          ],
          "name": "stderr"
        },
        {
          "output_type": "stream",
          "text": [
            "                                                                                  title  ... hv_order_tileid\n",
            "3b19578c-412b-45c7-854c-ea89a9599ac7  S2A_MSIL1C_20190726T102031_N0208_R065_T33UUU_2...  ...           UU33U\n",
            "\n",
            "[1 rows x 40 columns]\n"
          ],
          "name": "stdout"
        },
        {
          "output_type": "stream",
          "text": [
            "\n"
          ],
          "name": "stderr"
        }
      ]
    },
    {
      "cell_type": "code",
      "metadata": {
        "id": "euA67bRo9Zey",
        "colab_type": "code",
        "colab": {
          "base_uri": "https://localhost:8080/",
          "height": 326
        },
        "outputId": "d44941c9-3bb1-4f20-b50a-97e7d467f8cd"
      },
      "source": [
        "download_dir = '/content/drive/My Drive/work/IP4RS_lab/data'\n",
        "\n",
        "api.download_all(products_df_sorted.index, directory_path=download_dir)"
      ],
      "execution_count": 12,
      "outputs": [
        {
          "output_type": "stream",
          "text": [
            "Downloading: 100%|██████████| 825M/825M [00:29<00:00, 27.9MB/s]\n",
            "MD5 checksumming: 100%|██████████| 825M/825M [00:02<00:00, 342MB/s]\n"
          ],
          "name": "stderr"
        },
        {
          "output_type": "execute_result",
          "data": {
            "text/plain": [
              "(OrderedDict([('3b19578c-412b-45c7-854c-ea89a9599ac7',\n",
              "               {'Creation Date': datetime.datetime(2019, 7, 26, 16, 24, 11, 283000),\n",
              "                'Ingestion Date': datetime.datetime(2019, 7, 26, 16, 23, 20, 812000),\n",
              "                'Online': True,\n",
              "                'date': datetime.datetime(2019, 7, 26, 10, 20, 31, 24000),\n",
              "                'downloaded_bytes': 824870777,\n",
              "                'footprint': 'POLYGON((12.004760925069467 53.21197782662703,13.648341514492438 53.24196354764364,13.678544065009483 52.25515074878083,12.071595116334858 52.22621087043558,12.004760925069467 53.21197782662703))',\n",
              "                'id': '3b19578c-412b-45c7-854c-ea89a9599ac7',\n",
              "                'md5': 'DF709FBC213AE9AFD7CE695DC5A98D2C',\n",
              "                'path': '/content/drive/My Drive/work/IP4RS_lab/data/S2A_MSIL1C_20190726T102031_N0208_R065_T33UUU_20190726T121947.zip',\n",
              "                'size': 824870777,\n",
              "                'title': 'S2A_MSIL1C_20190726T102031_N0208_R065_T33UUU_20190726T121947',\n",
              "                'url': \"https://scihub.copernicus.eu/dhus/odata/v1/Products('3b19578c-412b-45c7-854c-ea89a9599ac7')/$value\"})]),\n",
              " OrderedDict(),\n",
              " set())"
            ]
          },
          "metadata": {
            "tags": []
          },
          "execution_count": 12
        }
      ]
    },
    {
      "cell_type": "code",
      "metadata": {
        "id": "_Xbxe3gHLBvW",
        "colab_type": "code",
        "colab": {
          "base_uri": "https://localhost:8080/",
          "height": 1000
        },
        "outputId": "fc730e85-d3ef-4fd2-f814-f2dd32ee8a7b"
      },
      "source": [
        "!unzip /content/drive/My\\ Drive/work/IP4RS_lab/data/S2A_MSIL1C_20190726T102031_N0208_R065_T33UUU_20190726T121947.zip -d /content/drive/My\\ Drive/work/IP4RS_lab/data/ "
      ],
      "execution_count": 13,
      "outputs": [
        {
          "output_type": "stream",
          "text": [
            "Archive:  /content/drive/My Drive/work/IP4RS_lab/data/S2A_MSIL1C_20190726T102031_N0208_R065_T33UUU_20190726T121947.zip\n",
            "   creating: /content/drive/My Drive/work/IP4RS_lab/data/S2A_MSIL1C_20190726T102031_N0208_R065_T33UUU_20190726T121947.SAFE/\n",
            " extracting: /content/drive/My Drive/work/IP4RS_lab/data/S2A_MSIL1C_20190726T102031_N0208_R065_T33UUU_20190726T121947.SAFE/INSPIRE.xml  \n",
            "   creating: /content/drive/My Drive/work/IP4RS_lab/data/S2A_MSIL1C_20190726T102031_N0208_R065_T33UUU_20190726T121947.SAFE/rep_info/\n",
            " extracting: /content/drive/My Drive/work/IP4RS_lab/data/S2A_MSIL1C_20190726T102031_N0208_R065_T33UUU_20190726T121947.SAFE/rep_info/S2_User_Product_Level-1C_Metadata.xsd  \n",
            "   creating: /content/drive/My Drive/work/IP4RS_lab/data/S2A_MSIL1C_20190726T102031_N0208_R065_T33UUU_20190726T121947.SAFE/HTML/\n",
            " extracting: /content/drive/My Drive/work/IP4RS_lab/data/S2A_MSIL1C_20190726T102031_N0208_R065_T33UUU_20190726T121947.SAFE/HTML/star_bg.jpg  \n",
            " extracting: /content/drive/My Drive/work/IP4RS_lab/data/S2A_MSIL1C_20190726T102031_N0208_R065_T33UUU_20190726T121947.SAFE/HTML/banner_1.png  \n",
            " extracting: /content/drive/My Drive/work/IP4RS_lab/data/S2A_MSIL1C_20190726T102031_N0208_R065_T33UUU_20190726T121947.SAFE/HTML/banner_2.png  \n",
            " extracting: /content/drive/My Drive/work/IP4RS_lab/data/S2A_MSIL1C_20190726T102031_N0208_R065_T33UUU_20190726T121947.SAFE/HTML/UserProduct_index.html  \n",
            " extracting: /content/drive/My Drive/work/IP4RS_lab/data/S2A_MSIL1C_20190726T102031_N0208_R065_T33UUU_20190726T121947.SAFE/HTML/UserProduct_index.xsl  \n",
            " extracting: /content/drive/My Drive/work/IP4RS_lab/data/S2A_MSIL1C_20190726T102031_N0208_R065_T33UUU_20190726T121947.SAFE/HTML/banner_3.png  \n",
            "   creating: /content/drive/My Drive/work/IP4RS_lab/data/S2A_MSIL1C_20190726T102031_N0208_R065_T33UUU_20190726T121947.SAFE/GRANULE/\n",
            "   creating: /content/drive/My Drive/work/IP4RS_lab/data/S2A_MSIL1C_20190726T102031_N0208_R065_T33UUU_20190726T121947.SAFE/GRANULE/L1C_T33UUU_A021369_20190726T102028/\n",
            " extracting: /content/drive/My Drive/work/IP4RS_lab/data/S2A_MSIL1C_20190726T102031_N0208_R065_T33UUU_20190726T121947.SAFE/GRANULE/L1C_T33UUU_A021369_20190726T102028/MTD_TL.xml  \n",
            "   creating: /content/drive/My Drive/work/IP4RS_lab/data/S2A_MSIL1C_20190726T102031_N0208_R065_T33UUU_20190726T121947.SAFE/GRANULE/L1C_T33UUU_A021369_20190726T102028/QI_DATA/\n",
            " extracting: /content/drive/My Drive/work/IP4RS_lab/data/S2A_MSIL1C_20190726T102031_N0208_R065_T33UUU_20190726T121947.SAFE/GRANULE/L1C_T33UUU_A021369_20190726T102028/QI_DATA/MSK_NODATA_B05.gml  \n",
            " extracting: /content/drive/My Drive/work/IP4RS_lab/data/S2A_MSIL1C_20190726T102031_N0208_R065_T33UUU_20190726T121947.SAFE/GRANULE/L1C_T33UUU_A021369_20190726T102028/QI_DATA/MSK_TECQUA_B12.gml  \n",
            " extracting: /content/drive/My Drive/work/IP4RS_lab/data/S2A_MSIL1C_20190726T102031_N0208_R065_T33UUU_20190726T121947.SAFE/GRANULE/L1C_T33UUU_A021369_20190726T102028/QI_DATA/SENSOR_QUALITY.xml  \n",
            " extracting: /content/drive/My Drive/work/IP4RS_lab/data/S2A_MSIL1C_20190726T102031_N0208_R065_T33UUU_20190726T121947.SAFE/GRANULE/L1C_T33UUU_A021369_20190726T102028/QI_DATA/MSK_SATURA_B11.gml  \n",
            " extracting: /content/drive/My Drive/work/IP4RS_lab/data/S2A_MSIL1C_20190726T102031_N0208_R065_T33UUU_20190726T121947.SAFE/GRANULE/L1C_T33UUU_A021369_20190726T102028/QI_DATA/MSK_DEFECT_B06.gml  \n",
            " extracting: /content/drive/My Drive/work/IP4RS_lab/data/S2A_MSIL1C_20190726T102031_N0208_R065_T33UUU_20190726T121947.SAFE/GRANULE/L1C_T33UUU_A021369_20190726T102028/QI_DATA/MSK_DETFOO_B8A.gml  \n",
            " extracting: /content/drive/My Drive/work/IP4RS_lab/data/S2A_MSIL1C_20190726T102031_N0208_R065_T33UUU_20190726T121947.SAFE/GRANULE/L1C_T33UUU_A021369_20190726T102028/QI_DATA/MSK_DEFECT_B8A.gml  \n",
            " extracting: /content/drive/My Drive/work/IP4RS_lab/data/S2A_MSIL1C_20190726T102031_N0208_R065_T33UUU_20190726T121947.SAFE/GRANULE/L1C_T33UUU_A021369_20190726T102028/QI_DATA/MSK_DETFOO_B04.gml  \n",
            " extracting: /content/drive/My Drive/work/IP4RS_lab/data/S2A_MSIL1C_20190726T102031_N0208_R065_T33UUU_20190726T121947.SAFE/GRANULE/L1C_T33UUU_A021369_20190726T102028/QI_DATA/MSK_DEFECT_B05.gml  \n",
            " extracting: /content/drive/My Drive/work/IP4RS_lab/data/S2A_MSIL1C_20190726T102031_N0208_R065_T33UUU_20190726T121947.SAFE/GRANULE/L1C_T33UUU_A021369_20190726T102028/QI_DATA/MSK_SATURA_B04.gml  \n",
            " extracting: /content/drive/My Drive/work/IP4RS_lab/data/S2A_MSIL1C_20190726T102031_N0208_R065_T33UUU_20190726T121947.SAFE/GRANULE/L1C_T33UUU_A021369_20190726T102028/QI_DATA/MSK_SATURA_B07.gml  \n",
            " extracting: /content/drive/My Drive/work/IP4RS_lab/data/S2A_MSIL1C_20190726T102031_N0208_R065_T33UUU_20190726T121947.SAFE/GRANULE/L1C_T33UUU_A021369_20190726T102028/QI_DATA/MSK_DEFECT_B09.gml  \n",
            " extracting: /content/drive/My Drive/work/IP4RS_lab/data/S2A_MSIL1C_20190726T102031_N0208_R065_T33UUU_20190726T121947.SAFE/GRANULE/L1C_T33UUU_A021369_20190726T102028/QI_DATA/MSK_DEFECT_B11.gml  \n",
            " extracting: /content/drive/My Drive/work/IP4RS_lab/data/S2A_MSIL1C_20190726T102031_N0208_R065_T33UUU_20190726T121947.SAFE/GRANULE/L1C_T33UUU_A021369_20190726T102028/QI_DATA/MSK_DEFECT_B03.gml  \n",
            " extracting: /content/drive/My Drive/work/IP4RS_lab/data/S2A_MSIL1C_20190726T102031_N0208_R065_T33UUU_20190726T121947.SAFE/GRANULE/L1C_T33UUU_A021369_20190726T102028/QI_DATA/T33UUU_20190726T102031_PVI.jp2  \n",
            " extracting: /content/drive/My Drive/work/IP4RS_lab/data/S2A_MSIL1C_20190726T102031_N0208_R065_T33UUU_20190726T121947.SAFE/GRANULE/L1C_T33UUU_A021369_20190726T102028/QI_DATA/MSK_DETFOO_B08.gml  \n",
            " extracting: /content/drive/My Drive/work/IP4RS_lab/data/S2A_MSIL1C_20190726T102031_N0208_R065_T33UUU_20190726T121947.SAFE/GRANULE/L1C_T33UUU_A021369_20190726T102028/QI_DATA/MSK_NODATA_B12.gml  \n",
            " extracting: /content/drive/My Drive/work/IP4RS_lab/data/S2A_MSIL1C_20190726T102031_N0208_R065_T33UUU_20190726T121947.SAFE/GRANULE/L1C_T33UUU_A021369_20190726T102028/QI_DATA/MSK_SATURA_B12.gml  \n",
            " extracting: /content/drive/My Drive/work/IP4RS_lab/data/S2A_MSIL1C_20190726T102031_N0208_R065_T33UUU_20190726T121947.SAFE/GRANULE/L1C_T33UUU_A021369_20190726T102028/QI_DATA/MSK_TECQUA_B03.gml  \n",
            " extracting: /content/drive/My Drive/work/IP4RS_lab/data/S2A_MSIL1C_20190726T102031_N0208_R065_T33UUU_20190726T121947.SAFE/GRANULE/L1C_T33UUU_A021369_20190726T102028/QI_DATA/MSK_DETFOO_B07.gml  \n",
            " extracting: /content/drive/My Drive/work/IP4RS_lab/data/S2A_MSIL1C_20190726T102031_N0208_R065_T33UUU_20190726T121947.SAFE/GRANULE/L1C_T33UUU_A021369_20190726T102028/QI_DATA/MSK_SATURA_B02.gml  \n",
            " extracting: /content/drive/My Drive/work/IP4RS_lab/data/S2A_MSIL1C_20190726T102031_N0208_R065_T33UUU_20190726T121947.SAFE/GRANULE/L1C_T33UUU_A021369_20190726T102028/QI_DATA/MSK_DETFOO_B09.gml  \n",
            " extracting: /content/drive/My Drive/work/IP4RS_lab/data/S2A_MSIL1C_20190726T102031_N0208_R065_T33UUU_20190726T121947.SAFE/GRANULE/L1C_T33UUU_A021369_20190726T102028/QI_DATA/MSK_TECQUA_B08.gml  \n",
            " extracting: /content/drive/My Drive/work/IP4RS_lab/data/S2A_MSIL1C_20190726T102031_N0208_R065_T33UUU_20190726T121947.SAFE/GRANULE/L1C_T33UUU_A021369_20190726T102028/QI_DATA/MSK_NODATA_B8A.gml  \n",
            " extracting: /content/drive/My Drive/work/IP4RS_lab/data/S2A_MSIL1C_20190726T102031_N0208_R065_T33UUU_20190726T121947.SAFE/GRANULE/L1C_T33UUU_A021369_20190726T102028/QI_DATA/MSK_NODATA_B04.gml  \n",
            " extracting: /content/drive/My Drive/work/IP4RS_lab/data/S2A_MSIL1C_20190726T102031_N0208_R065_T33UUU_20190726T121947.SAFE/GRANULE/L1C_T33UUU_A021369_20190726T102028/QI_DATA/MSK_SATURA_B09.gml  \n",
            " extracting: /content/drive/My Drive/work/IP4RS_lab/data/S2A_MSIL1C_20190726T102031_N0208_R065_T33UUU_20190726T121947.SAFE/GRANULE/L1C_T33UUU_A021369_20190726T102028/QI_DATA/MSK_SATURA_B03.gml  \n",
            " extracting: /content/drive/My Drive/work/IP4RS_lab/data/S2A_MSIL1C_20190726T102031_N0208_R065_T33UUU_20190726T121947.SAFE/GRANULE/L1C_T33UUU_A021369_20190726T102028/QI_DATA/MSK_SATURA_B08.gml  \n",
            " extracting: /content/drive/My Drive/work/IP4RS_lab/data/S2A_MSIL1C_20190726T102031_N0208_R065_T33UUU_20190726T121947.SAFE/GRANULE/L1C_T33UUU_A021369_20190726T102028/QI_DATA/MSK_DEFECT_B02.gml  \n",
            " extracting: /content/drive/My Drive/work/IP4RS_lab/data/S2A_MSIL1C_20190726T102031_N0208_R065_T33UUU_20190726T121947.SAFE/GRANULE/L1C_T33UUU_A021369_20190726T102028/QI_DATA/MSK_SATURA_B05.gml  \n",
            " extracting: /content/drive/My Drive/work/IP4RS_lab/data/S2A_MSIL1C_20190726T102031_N0208_R065_T33UUU_20190726T121947.SAFE/GRANULE/L1C_T33UUU_A021369_20190726T102028/QI_DATA/MSK_CLOUDS_B00.gml  \n",
            " extracting: /content/drive/My Drive/work/IP4RS_lab/data/S2A_MSIL1C_20190726T102031_N0208_R065_T33UUU_20190726T121947.SAFE/GRANULE/L1C_T33UUU_A021369_20190726T102028/QI_DATA/MSK_NODATA_B09.gml  \n",
            " extracting: /content/drive/My Drive/work/IP4RS_lab/data/S2A_MSIL1C_20190726T102031_N0208_R065_T33UUU_20190726T121947.SAFE/GRANULE/L1C_T33UUU_A021369_20190726T102028/QI_DATA/MSK_DEFECT_B10.gml  \n",
            " extracting: /content/drive/My Drive/work/IP4RS_lab/data/S2A_MSIL1C_20190726T102031_N0208_R065_T33UUU_20190726T121947.SAFE/GRANULE/L1C_T33UUU_A021369_20190726T102028/QI_DATA/MSK_TECQUA_B06.gml  \n",
            " extracting: /content/drive/My Drive/work/IP4RS_lab/data/S2A_MSIL1C_20190726T102031_N0208_R065_T33UUU_20190726T121947.SAFE/GRANULE/L1C_T33UUU_A021369_20190726T102028/QI_DATA/MSK_TECQUA_B02.gml  \n",
            " extracting: /content/drive/My Drive/work/IP4RS_lab/data/S2A_MSIL1C_20190726T102031_N0208_R065_T33UUU_20190726T121947.SAFE/GRANULE/L1C_T33UUU_A021369_20190726T102028/QI_DATA/MSK_DEFECT_B08.gml  \n",
            " extracting: /content/drive/My Drive/work/IP4RS_lab/data/S2A_MSIL1C_20190726T102031_N0208_R065_T33UUU_20190726T121947.SAFE/GRANULE/L1C_T33UUU_A021369_20190726T102028/QI_DATA/MSK_DETFOO_B03.gml  \n",
            " extracting: /content/drive/My Drive/work/IP4RS_lab/data/S2A_MSIL1C_20190726T102031_N0208_R065_T33UUU_20190726T121947.SAFE/GRANULE/L1C_T33UUU_A021369_20190726T102028/QI_DATA/MSK_NODATA_B03.gml  \n",
            " extracting: /content/drive/My Drive/work/IP4RS_lab/data/S2A_MSIL1C_20190726T102031_N0208_R065_T33UUU_20190726T121947.SAFE/GRANULE/L1C_T33UUU_A021369_20190726T102028/QI_DATA/MSK_NODATA_B02.gml  \n",
            " extracting: /content/drive/My Drive/work/IP4RS_lab/data/S2A_MSIL1C_20190726T102031_N0208_R065_T33UUU_20190726T121947.SAFE/GRANULE/L1C_T33UUU_A021369_20190726T102028/QI_DATA/MSK_TECQUA_B09.gml  \n",
            " extracting: /content/drive/My Drive/work/IP4RS_lab/data/S2A_MSIL1C_20190726T102031_N0208_R065_T33UUU_20190726T121947.SAFE/GRANULE/L1C_T33UUU_A021369_20190726T102028/QI_DATA/MSK_SATURA_B06.gml  \n",
            " extracting: /content/drive/My Drive/work/IP4RS_lab/data/S2A_MSIL1C_20190726T102031_N0208_R065_T33UUU_20190726T121947.SAFE/GRANULE/L1C_T33UUU_A021369_20190726T102028/QI_DATA/MSK_NODATA_B08.gml  \n",
            " extracting: /content/drive/My Drive/work/IP4RS_lab/data/S2A_MSIL1C_20190726T102031_N0208_R065_T33UUU_20190726T121947.SAFE/GRANULE/L1C_T33UUU_A021369_20190726T102028/QI_DATA/MSK_TECQUA_B01.gml  \n",
            " extracting: /content/drive/My Drive/work/IP4RS_lab/data/S2A_MSIL1C_20190726T102031_N0208_R065_T33UUU_20190726T121947.SAFE/GRANULE/L1C_T33UUU_A021369_20190726T102028/QI_DATA/MSK_DETFOO_B10.gml  \n",
            " extracting: /content/drive/My Drive/work/IP4RS_lab/data/S2A_MSIL1C_20190726T102031_N0208_R065_T33UUU_20190726T121947.SAFE/GRANULE/L1C_T33UUU_A021369_20190726T102028/QI_DATA/GENERAL_QUALITY.xml  \n",
            " extracting: /content/drive/My Drive/work/IP4RS_lab/data/S2A_MSIL1C_20190726T102031_N0208_R065_T33UUU_20190726T121947.SAFE/GRANULE/L1C_T33UUU_A021369_20190726T102028/QI_DATA/MSK_SATURA_B8A.gml  \n",
            " extracting: /content/drive/My Drive/work/IP4RS_lab/data/S2A_MSIL1C_20190726T102031_N0208_R065_T33UUU_20190726T121947.SAFE/GRANULE/L1C_T33UUU_A021369_20190726T102028/QI_DATA/MSK_DETFOO_B05.gml  \n",
            " extracting: /content/drive/My Drive/work/IP4RS_lab/data/S2A_MSIL1C_20190726T102031_N0208_R065_T33UUU_20190726T121947.SAFE/GRANULE/L1C_T33UUU_A021369_20190726T102028/QI_DATA/MSK_DETFOO_B11.gml  \n",
            " extracting: /content/drive/My Drive/work/IP4RS_lab/data/S2A_MSIL1C_20190726T102031_N0208_R065_T33UUU_20190726T121947.SAFE/GRANULE/L1C_T33UUU_A021369_20190726T102028/QI_DATA/MSK_SATURA_B10.gml  \n",
            " extracting: /content/drive/My Drive/work/IP4RS_lab/data/S2A_MSIL1C_20190726T102031_N0208_R065_T33UUU_20190726T121947.SAFE/GRANULE/L1C_T33UUU_A021369_20190726T102028/QI_DATA/MSK_NODATA_B01.gml  \n",
            " extracting: /content/drive/My Drive/work/IP4RS_lab/data/S2A_MSIL1C_20190726T102031_N0208_R065_T33UUU_20190726T121947.SAFE/GRANULE/L1C_T33UUU_A021369_20190726T102028/QI_DATA/MSK_NODATA_B10.gml  \n",
            " extracting: /content/drive/My Drive/work/IP4RS_lab/data/S2A_MSIL1C_20190726T102031_N0208_R065_T33UUU_20190726T121947.SAFE/GRANULE/L1C_T33UUU_A021369_20190726T102028/QI_DATA/MSK_DEFECT_B07.gml  \n",
            " extracting: /content/drive/My Drive/work/IP4RS_lab/data/S2A_MSIL1C_20190726T102031_N0208_R065_T33UUU_20190726T121947.SAFE/GRANULE/L1C_T33UUU_A021369_20190726T102028/QI_DATA/MSK_TECQUA_B05.gml  \n",
            " extracting: /content/drive/My Drive/work/IP4RS_lab/data/S2A_MSIL1C_20190726T102031_N0208_R065_T33UUU_20190726T121947.SAFE/GRANULE/L1C_T33UUU_A021369_20190726T102028/QI_DATA/MSK_DEFECT_B12.gml  \n",
            " extracting: /content/drive/My Drive/work/IP4RS_lab/data/S2A_MSIL1C_20190726T102031_N0208_R065_T33UUU_20190726T121947.SAFE/GRANULE/L1C_T33UUU_A021369_20190726T102028/QI_DATA/MSK_DETFOO_B06.gml  \n",
            " extracting: /content/drive/My Drive/work/IP4RS_lab/data/S2A_MSIL1C_20190726T102031_N0208_R065_T33UUU_20190726T121947.SAFE/GRANULE/L1C_T33UUU_A021369_20190726T102028/QI_DATA/MSK_NODATA_B11.gml  \n",
            " extracting: /content/drive/My Drive/work/IP4RS_lab/data/S2A_MSIL1C_20190726T102031_N0208_R065_T33UUU_20190726T121947.SAFE/GRANULE/L1C_T33UUU_A021369_20190726T102028/QI_DATA/MSK_NODATA_B07.gml  \n",
            " extracting: /content/drive/My Drive/work/IP4RS_lab/data/S2A_MSIL1C_20190726T102031_N0208_R065_T33UUU_20190726T121947.SAFE/GRANULE/L1C_T33UUU_A021369_20190726T102028/QI_DATA/MSK_TECQUA_B04.gml  \n",
            " extracting: /content/drive/My Drive/work/IP4RS_lab/data/S2A_MSIL1C_20190726T102031_N0208_R065_T33UUU_20190726T121947.SAFE/GRANULE/L1C_T33UUU_A021369_20190726T102028/QI_DATA/MSK_TECQUA_B07.gml  \n",
            " extracting: /content/drive/My Drive/work/IP4RS_lab/data/S2A_MSIL1C_20190726T102031_N0208_R065_T33UUU_20190726T121947.SAFE/GRANULE/L1C_T33UUU_A021369_20190726T102028/QI_DATA/MSK_TECQUA_B8A.gml  \n",
            " extracting: /content/drive/My Drive/work/IP4RS_lab/data/S2A_MSIL1C_20190726T102031_N0208_R065_T33UUU_20190726T121947.SAFE/GRANULE/L1C_T33UUU_A021369_20190726T102028/QI_DATA/MSK_NODATA_B06.gml  \n",
            " extracting: /content/drive/My Drive/work/IP4RS_lab/data/S2A_MSIL1C_20190726T102031_N0208_R065_T33UUU_20190726T121947.SAFE/GRANULE/L1C_T33UUU_A021369_20190726T102028/QI_DATA/MSK_DEFECT_B01.gml  \n",
            " extracting: /content/drive/My Drive/work/IP4RS_lab/data/S2A_MSIL1C_20190726T102031_N0208_R065_T33UUU_20190726T121947.SAFE/GRANULE/L1C_T33UUU_A021369_20190726T102028/QI_DATA/MSK_TECQUA_B10.gml  \n",
            " extracting: /content/drive/My Drive/work/IP4RS_lab/data/S2A_MSIL1C_20190726T102031_N0208_R065_T33UUU_20190726T121947.SAFE/GRANULE/L1C_T33UUU_A021369_20190726T102028/QI_DATA/MSK_DETFOO_B12.gml  \n",
            " extracting: /content/drive/My Drive/work/IP4RS_lab/data/S2A_MSIL1C_20190726T102031_N0208_R065_T33UUU_20190726T121947.SAFE/GRANULE/L1C_T33UUU_A021369_20190726T102028/QI_DATA/MSK_DETFOO_B02.gml  \n",
            " extracting: /content/drive/My Drive/work/IP4RS_lab/data/S2A_MSIL1C_20190726T102031_N0208_R065_T33UUU_20190726T121947.SAFE/GRANULE/L1C_T33UUU_A021369_20190726T102028/QI_DATA/MSK_TECQUA_B11.gml  \n",
            " extracting: /content/drive/My Drive/work/IP4RS_lab/data/S2A_MSIL1C_20190726T102031_N0208_R065_T33UUU_20190726T121947.SAFE/GRANULE/L1C_T33UUU_A021369_20190726T102028/QI_DATA/GEOMETRIC_QUALITY.xml  \n",
            " extracting: /content/drive/My Drive/work/IP4RS_lab/data/S2A_MSIL1C_20190726T102031_N0208_R065_T33UUU_20190726T121947.SAFE/GRANULE/L1C_T33UUU_A021369_20190726T102028/QI_DATA/MSK_SATURA_B01.gml  \n",
            " extracting: /content/drive/My Drive/work/IP4RS_lab/data/S2A_MSIL1C_20190726T102031_N0208_R065_T33UUU_20190726T121947.SAFE/GRANULE/L1C_T33UUU_A021369_20190726T102028/QI_DATA/MSK_DETFOO_B01.gml  \n",
            " extracting: /content/drive/My Drive/work/IP4RS_lab/data/S2A_MSIL1C_20190726T102031_N0208_R065_T33UUU_20190726T121947.SAFE/GRANULE/L1C_T33UUU_A021369_20190726T102028/QI_DATA/FORMAT_CORRECTNESS.xml  \n",
            " extracting: /content/drive/My Drive/work/IP4RS_lab/data/S2A_MSIL1C_20190726T102031_N0208_R065_T33UUU_20190726T121947.SAFE/GRANULE/L1C_T33UUU_A021369_20190726T102028/QI_DATA/MSK_DEFECT_B04.gml  \n",
            "   creating: /content/drive/My Drive/work/IP4RS_lab/data/S2A_MSIL1C_20190726T102031_N0208_R065_T33UUU_20190726T121947.SAFE/GRANULE/L1C_T33UUU_A021369_20190726T102028/AUX_DATA/\n",
            " extracting: /content/drive/My Drive/work/IP4RS_lab/data/S2A_MSIL1C_20190726T102031_N0208_R065_T33UUU_20190726T121947.SAFE/GRANULE/L1C_T33UUU_A021369_20190726T102028/AUX_DATA/AUX_ECMWFT  \n",
            "   creating: /content/drive/My Drive/work/IP4RS_lab/data/S2A_MSIL1C_20190726T102031_N0208_R065_T33UUU_20190726T121947.SAFE/GRANULE/L1C_T33UUU_A021369_20190726T102028/IMG_DATA/\n",
            " extracting: /content/drive/My Drive/work/IP4RS_lab/data/S2A_MSIL1C_20190726T102031_N0208_R065_T33UUU_20190726T121947.SAFE/GRANULE/L1C_T33UUU_A021369_20190726T102028/IMG_DATA/T33UUU_20190726T102031_B01.jp2  \n",
            " extracting: /content/drive/My Drive/work/IP4RS_lab/data/S2A_MSIL1C_20190726T102031_N0208_R065_T33UUU_20190726T121947.SAFE/GRANULE/L1C_T33UUU_A021369_20190726T102028/IMG_DATA/T33UUU_20190726T102031_TCI.jp2  \n",
            " extracting: /content/drive/My Drive/work/IP4RS_lab/data/S2A_MSIL1C_20190726T102031_N0208_R065_T33UUU_20190726T121947.SAFE/GRANULE/L1C_T33UUU_A021369_20190726T102028/IMG_DATA/T33UUU_20190726T102031_B11.jp2  \n",
            " extracting: /content/drive/My Drive/work/IP4RS_lab/data/S2A_MSIL1C_20190726T102031_N0208_R065_T33UUU_20190726T121947.SAFE/GRANULE/L1C_T33UUU_A021369_20190726T102028/IMG_DATA/T33UUU_20190726T102031_B08.jp2  \n",
            " extracting: /content/drive/My Drive/work/IP4RS_lab/data/S2A_MSIL1C_20190726T102031_N0208_R065_T33UUU_20190726T121947.SAFE/GRANULE/L1C_T33UUU_A021369_20190726T102028/IMG_DATA/T33UUU_20190726T102031_B02.jp2  \n",
            " extracting: /content/drive/My Drive/work/IP4RS_lab/data/S2A_MSIL1C_20190726T102031_N0208_R065_T33UUU_20190726T121947.SAFE/GRANULE/L1C_T33UUU_A021369_20190726T102028/IMG_DATA/T33UUU_20190726T102031_B12.jp2  \n",
            " extracting: /content/drive/My Drive/work/IP4RS_lab/data/S2A_MSIL1C_20190726T102031_N0208_R065_T33UUU_20190726T121947.SAFE/GRANULE/L1C_T33UUU_A021369_20190726T102028/IMG_DATA/T33UUU_20190726T102031_B03.jp2  \n",
            " extracting: /content/drive/My Drive/work/IP4RS_lab/data/S2A_MSIL1C_20190726T102031_N0208_R065_T33UUU_20190726T121947.SAFE/GRANULE/L1C_T33UUU_A021369_20190726T102028/IMG_DATA/T33UUU_20190726T102031_B09.jp2  \n",
            " extracting: /content/drive/My Drive/work/IP4RS_lab/data/S2A_MSIL1C_20190726T102031_N0208_R065_T33UUU_20190726T121947.SAFE/GRANULE/L1C_T33UUU_A021369_20190726T102028/IMG_DATA/T33UUU_20190726T102031_B05.jp2  \n",
            " extracting: /content/drive/My Drive/work/IP4RS_lab/data/S2A_MSIL1C_20190726T102031_N0208_R065_T33UUU_20190726T121947.SAFE/GRANULE/L1C_T33UUU_A021369_20190726T102028/IMG_DATA/T33UUU_20190726T102031_B06.jp2  \n",
            " extracting: /content/drive/My Drive/work/IP4RS_lab/data/S2A_MSIL1C_20190726T102031_N0208_R065_T33UUU_20190726T121947.SAFE/GRANULE/L1C_T33UUU_A021369_20190726T102028/IMG_DATA/T33UUU_20190726T102031_B8A.jp2  \n",
            " extracting: /content/drive/My Drive/work/IP4RS_lab/data/S2A_MSIL1C_20190726T102031_N0208_R065_T33UUU_20190726T121947.SAFE/GRANULE/L1C_T33UUU_A021369_20190726T102028/IMG_DATA/T33UUU_20190726T102031_B10.jp2  \n",
            " extracting: /content/drive/My Drive/work/IP4RS_lab/data/S2A_MSIL1C_20190726T102031_N0208_R065_T33UUU_20190726T121947.SAFE/GRANULE/L1C_T33UUU_A021369_20190726T102028/IMG_DATA/T33UUU_20190726T102031_B07.jp2  \n",
            " extracting: /content/drive/My Drive/work/IP4RS_lab/data/S2A_MSIL1C_20190726T102031_N0208_R065_T33UUU_20190726T121947.SAFE/GRANULE/L1C_T33UUU_A021369_20190726T102028/IMG_DATA/T33UUU_20190726T102031_B04.jp2  \n",
            "   creating: /content/drive/My Drive/work/IP4RS_lab/data/S2A_MSIL1C_20190726T102031_N0208_R065_T33UUU_20190726T121947.SAFE/AUX_DATA/\n",
            "   creating: /content/drive/My Drive/work/IP4RS_lab/data/S2A_MSIL1C_20190726T102031_N0208_R065_T33UUU_20190726T121947.SAFE/DATASTRIP/\n",
            "   creating: /content/drive/My Drive/work/IP4RS_lab/data/S2A_MSIL1C_20190726T102031_N0208_R065_T33UUU_20190726T121947.SAFE/DATASTRIP/DS_SGS__20190726T121947_S20190726T102028/\n",
            " extracting: /content/drive/My Drive/work/IP4RS_lab/data/S2A_MSIL1C_20190726T102031_N0208_R065_T33UUU_20190726T121947.SAFE/DATASTRIP/DS_SGS__20190726T121947_S20190726T102028/MTD_DS.xml  \n",
            "   creating: /content/drive/My Drive/work/IP4RS_lab/data/S2A_MSIL1C_20190726T102031_N0208_R065_T33UUU_20190726T121947.SAFE/DATASTRIP/DS_SGS__20190726T121947_S20190726T102028/QI_DATA/\n",
            " extracting: /content/drive/My Drive/work/IP4RS_lab/data/S2A_MSIL1C_20190726T102031_N0208_R065_T33UUU_20190726T121947.SAFE/DATASTRIP/DS_SGS__20190726T121947_S20190726T102028/QI_DATA/SENSOR_QUALITY.xml  \n",
            " extracting: /content/drive/My Drive/work/IP4RS_lab/data/S2A_MSIL1C_20190726T102031_N0208_R065_T33UUU_20190726T121947.SAFE/DATASTRIP/DS_SGS__20190726T121947_S20190726T102028/QI_DATA/GENERAL_QUALITY.xml  \n",
            " extracting: /content/drive/My Drive/work/IP4RS_lab/data/S2A_MSIL1C_20190726T102031_N0208_R065_T33UUU_20190726T121947.SAFE/DATASTRIP/DS_SGS__20190726T121947_S20190726T102028/QI_DATA/RADIOMETRIC_QUALITY.xml  \n",
            " extracting: /content/drive/My Drive/work/IP4RS_lab/data/S2A_MSIL1C_20190726T102031_N0208_R065_T33UUU_20190726T121947.SAFE/DATASTRIP/DS_SGS__20190726T121947_S20190726T102028/QI_DATA/GEOMETRIC_QUALITY.xml  \n",
            " extracting: /content/drive/My Drive/work/IP4RS_lab/data/S2A_MSIL1C_20190726T102031_N0208_R065_T33UUU_20190726T121947.SAFE/DATASTRIP/DS_SGS__20190726T121947_S20190726T102028/QI_DATA/FORMAT_CORRECTNESS.xml  \n",
            " extracting: /content/drive/My Drive/work/IP4RS_lab/data/S2A_MSIL1C_20190726T102031_N0208_R065_T33UUU_20190726T121947.SAFE/manifest.safe  \n",
            " extracting: /content/drive/My Drive/work/IP4RS_lab/data/S2A_MSIL1C_20190726T102031_N0208_R065_T33UUU_20190726T121947.SAFE/MTD_MSIL1C.xml  \n"
          ],
          "name": "stdout"
        }
      ]
    },
    {
      "cell_type": "code",
      "metadata": {
        "id": "n7o9A-mfLNla",
        "colab_type": "code",
        "colab": {
          "base_uri": "https://localhost:8080/",
          "height": 802
        },
        "outputId": "2e3b71e2-11c8-4eef-96da-d09a6b2635dc"
      },
      "source": [
        "sen2_xml = '/content/drive/My Drive/work/IP4RS_lab/data/S2A_MSIL1C_20190726T102031_N0208_R065_T33UUU_20190726T121947.SAFE/MTD_MSIL1C.xml'\n",
        "# open dataset\n",
        "raster = gdal.Open(sen2_xml)\n",
        "# print sentinel-2 information\n",
        "raster_info = gdal.Info(sen2_xml)\n",
        "print(raster_info)\n",
        "# get subset from raster\n",
        "datasets = raster.GetSubDatasets()\n",
        "print(list(datasets))\n",
        "\n",
        "bands_10m = list(datasets)[0]\n",
        "bands_20m = list(datasets)[1]\n",
        "bands_60m = list(datasets)[2]"
      ],
      "execution_count": 14,
      "outputs": [
        {
          "output_type": "stream",
          "text": [
            "Driver: SENTINEL2/Sentinel 2\n",
            "Files: /content/drive/My Drive/work/IP4RS_lab/data/S2A_MSIL1C_20190726T102031_N0208_R065_T33UUU_20190726T121947.SAFE/MTD_MSIL1C.xml\n",
            "Size is 512, 512\n",
            "Coordinate System is `'\n",
            "Metadata:\n",
            "  CLOUD_COVERAGE_ASSESSMENT=0.0\n",
            "  DATATAKE_1_DATATAKE_SENSING_START=2019-07-26T10:20:31.024Z\n",
            "  DATATAKE_1_DATATAKE_TYPE=INS-NOBS\n",
            "  DATATAKE_1_ID=GS2A_20190726T102031_021369_N02.08\n",
            "  DATATAKE_1_SENSING_ORBIT_DIRECTION=DESCENDING\n",
            "  DATATAKE_1_SENSING_ORBIT_NUMBER=65\n",
            "  DATATAKE_1_SPACECRAFT_NAME=Sentinel-2A\n",
            "  DEGRADED_ANC_DATA_PERCENTAGE=0.0\n",
            "  DEGRADED_MSI_DATA_PERCENTAGE=0\n",
            "  FOOTPRINT=POLYGON((12.004760925069467 53.21197782662703, 13.648341514492438 53.24196354764364, 13.678544065009483 52.25515074878083, 12.071595116334858 52.22621087043558, 12.004760925069467 53.21197782662703))\n",
            "  GENERATION_TIME=2019-07-26T12:19:47.000000Z\n",
            "  PREVIEW_GEO_INFO=Not applicable\n",
            "  PREVIEW_IMAGE_URL=Not applicable\n",
            "  PROCESSING_BASELINE=02.08\n",
            "  PROCESSING_LEVEL=Level-1C\n",
            "  PRODUCT_START_TIME=2019-07-26T10:20:31.024Z\n",
            "  PRODUCT_STOP_TIME=2019-07-26T10:20:31.024Z\n",
            "  PRODUCT_TYPE=S2MSI1C\n",
            "  PRODUCT_URI=S2A_MSIL1C_20190726T102031_N0208_R065_T33UUU_20190726T121947.SAFE\n",
            "  QUANTIFICATION_VALUE=10000\n",
            "  REFLECTANCE_CONVERSION_U=0.968790751188287\n",
            "  SPECIAL_VALUE_NODATA=0\n",
            "  SPECIAL_VALUE_SATURATED=65535\n",
            "Subdatasets:\n",
            "  SUBDATASET_1_NAME=SENTINEL2_L1C:/content/drive/My Drive/work/IP4RS_lab/data/S2A_MSIL1C_20190726T102031_N0208_R065_T33UUU_20190726T121947.SAFE/MTD_MSIL1C.xml:10m:EPSG_32633\n",
            "  SUBDATASET_1_DESC=Bands B2, B3, B4, B8 with 10m resolution, UTM 33N\n",
            "  SUBDATASET_2_NAME=SENTINEL2_L1C:/content/drive/My Drive/work/IP4RS_lab/data/S2A_MSIL1C_20190726T102031_N0208_R065_T33UUU_20190726T121947.SAFE/MTD_MSIL1C.xml:20m:EPSG_32633\n",
            "  SUBDATASET_2_DESC=Bands B5, B6, B7, B8A, B11, B12 with 20m resolution, UTM 33N\n",
            "  SUBDATASET_3_NAME=SENTINEL2_L1C:/content/drive/My Drive/work/IP4RS_lab/data/S2A_MSIL1C_20190726T102031_N0208_R065_T33UUU_20190726T121947.SAFE/MTD_MSIL1C.xml:60m:EPSG_32633\n",
            "  SUBDATASET_3_DESC=Bands B1, B9, B10 with 60m resolution, UTM 33N\n",
            "  SUBDATASET_4_NAME=SENTINEL2_L1C:/content/drive/My Drive/work/IP4RS_lab/data/S2A_MSIL1C_20190726T102031_N0208_R065_T33UUU_20190726T121947.SAFE/MTD_MSIL1C.xml:TCI:EPSG_32633\n",
            "  SUBDATASET_4_DESC=True color image, UTM 33N\n",
            "Corner Coordinates:\n",
            "Upper Left  (    0.0,    0.0)\n",
            "Lower Left  (    0.0,  512.0)\n",
            "Upper Right (  512.0,    0.0)\n",
            "Lower Right (  512.0,  512.0)\n",
            "Center      (  256.0,  256.0)\n",
            "\n",
            "[('SENTINEL2_L1C:/content/drive/My Drive/work/IP4RS_lab/data/S2A_MSIL1C_20190726T102031_N0208_R065_T33UUU_20190726T121947.SAFE/MTD_MSIL1C.xml:10m:EPSG_32633', 'Bands B2, B3, B4, B8 with 10m resolution, UTM 33N'), ('SENTINEL2_L1C:/content/drive/My Drive/work/IP4RS_lab/data/S2A_MSIL1C_20190726T102031_N0208_R065_T33UUU_20190726T121947.SAFE/MTD_MSIL1C.xml:20m:EPSG_32633', 'Bands B5, B6, B7, B8A, B11, B12 with 20m resolution, UTM 33N'), ('SENTINEL2_L1C:/content/drive/My Drive/work/IP4RS_lab/data/S2A_MSIL1C_20190726T102031_N0208_R065_T33UUU_20190726T121947.SAFE/MTD_MSIL1C.xml:60m:EPSG_32633', 'Bands B1, B9, B10 with 60m resolution, UTM 33N'), ('SENTINEL2_L1C:/content/drive/My Drive/work/IP4RS_lab/data/S2A_MSIL1C_20190726T102031_N0208_R065_T33UUU_20190726T121947.SAFE/MTD_MSIL1C.xml:TCI:EPSG_32633', 'True color image, UTM 33N')]\n"
          ],
          "name": "stdout"
        }
      ]
    },
    {
      "cell_type": "code",
      "metadata": {
        "id": "q1uDqP41LUtv",
        "colab_type": "code",
        "colab": {
          "base_uri": "https://localhost:8080/",
          "height": 238
        },
        "outputId": "8a145ddb-b156-4b8d-c9c7-d9255d1038f2"
      },
      "source": [
        "ds10 = gdal.Open(bands_10m[0])\n",
        "\n",
        "for i in range(ds10.RasterCount):\n",
        "  print(ds10.GetRasterBand(i+1).GetDescription())\n",
        "\n",
        "# ds10_info = gdal.Info(bands_10m[0])\n",
        "# print(ds10_info)\n",
        "\n",
        "ds20 = gdal.Open(bands_20m[0])\n",
        "\n",
        "for i in range(ds20.RasterCount):\n",
        "  print(ds20.GetRasterBand(i+1).GetDescription())\n",
        "\n",
        "# ds20_info = gdal.Info(bands_20m[0])\n",
        "# print(ds20_info)\n",
        "\n",
        "ds60 = gdal.Open(bands_60m[0])\n",
        "\n",
        "for i in range(ds60.RasterCount):\n",
        "  print(ds60.GetRasterBand(i+1).GetDescription())\n",
        "\n",
        "# ds60_info = gdal.Info(bands_60m[0])\n",
        "# print(ds60_info)\n",
        "\n",
        "# determine the coordinate and buffer information\n",
        "tmxmin = 0\n",
        "tmxmax = ds10.RasterXSize - 1\n",
        "tmymin = 0\n",
        "tmymax = ds10.RasterYSize - 1\n",
        "\n",
        "\n",
        "data10 = np.rollaxis(\n",
        "            ds10.ReadAsArray(xoff=tmxmin, yoff=tmymin, xsize=tmxmax - tmxmin + 1, ysize=tmymax - tmymin + 1, buf_xsize=tmxmax - tmxmin + 1,\n",
        "                             buf_ysize=tmymax - tmymin + 1), 0, 3)\n",
        "\n",
        "data20 = np.rollaxis(\n",
        "            ds20.ReadAsArray(xoff=tmxmin // 2, yoff=tmymin // 2, xsize=(tmxmax - tmxmin + 1) // 2, ysize=(tmymax - tmymin + 1) // 2,\n",
        "                             buf_xsize=(tmxmax - tmxmin + 1) // 2, buf_ysize=(tmymax - tmymin + 1) // 2), 0, 3)\n",
        "# did not select B10, sinc it does not contain surface information\n",
        "data60 = np.rollaxis(\n",
        "          ds60.ReadAsArray(xoff=tmxmin // 6, yoff=tmymin // 6, xsize=(tmxmax - tmxmin + 1) // 6, ysize=(tmymax - tmymin + 1) // 6,\n",
        "                             buf_xsize=(tmxmax - tmxmin + 1) // 6, buf_ysize=(tmymax - tmymin + 1) // 6), 0, 3)[:,:,[0,1]]"
      ],
      "execution_count": 15,
      "outputs": [
        {
          "output_type": "stream",
          "text": [
            "B4, central wavelength 665 nm\n",
            "B3, central wavelength 560 nm\n",
            "B2, central wavelength 490 nm\n",
            "B8, central wavelength 842 nm\n",
            "B5, central wavelength 705 nm\n",
            "B6, central wavelength 740 nm\n",
            "B7, central wavelength 783 nm\n",
            "B8A, central wavelength 865 nm\n",
            "B11, central wavelength 1610 nm\n",
            "B12, central wavelength 2190 nm\n",
            "B1, central wavelength 443 nm\n",
            "B9, central wavelength 945 nm\n",
            "B10, central wavelength 1375 nm\n"
          ],
          "name": "stdout"
        }
      ]
    },
    {
      "cell_type": "code",
      "metadata": {
        "id": "qEREAsocLdKY",
        "colab_type": "code",
        "colab": {}
      },
      "source": [
        "def visual_band(data, percentile_data=None):\n",
        "  \"\"\"\n",
        "  clip image values and create uint8 image\n",
        "  \"\"\"\n",
        "  if percentile_data is None:\n",
        "      percentile_data = data\n",
        "  mi, ma = np.percentile(percentile_data, (1, 99))\n",
        "  band_data = np.clip(data, mi, ma)\n",
        "  band_data = (band_data - mi) / (ma - mi)\n",
        "\n",
        "  return (255*band_data).astype(np.uint8)"
      ],
      "execution_count": 0,
      "outputs": []
    }
  ]
}